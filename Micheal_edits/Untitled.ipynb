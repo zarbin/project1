{
 "cells": [
  {
   "cell_type": "code",
   "execution_count": 2,
   "metadata": {},
   "outputs": [
    {
     "data": {
      "text/plain": [
       "1252.89"
      ]
     },
     "execution_count": 2,
     "metadata": {},
     "output_type": "execute_result"
    }
   ],
   "source": [
    "import cryptocompare\n",
    "def current_price(ticker):\n",
    "    tick = ticker\n",
    "    ticker = dict(cryptocompare.get_price(ticker,curr='USD',full=False))\n",
    "    return ticker[tick]['USD']\n",
    "current_price('ETH')"
   ]
  },
  {
   "cell_type": "code",
   "execution_count": 4,
   "metadata": {},
   "outputs": [
    {
     "data": {
      "text/plain": [
       "1252.89"
      ]
     },
     "execution_count": 4,
     "metadata": {},
     "output_type": "execute_result"
    }
   ],
   "source": [
    "current_price('ETH')"
   ]
  },
  {
   "cell_type": "code",
   "execution_count": 5,
   "metadata": {},
   "outputs": [
    {
     "name": "stdout",
     "output_type": "stream",
     "text": [
      "BTC/USD: $36405.18\n",
      "ETH/USD: $1252.26\n",
      "LTC/USD: $145.84\n"
     ]
    }
   ],
   "source": [
    "\n",
    "def current_price(ticker_string):\n",
    "    ticker = dict(cryptocompare.get_price(ticker_string,curr='USD',full=False))\n",
    "    return ticker[ticker_string]['USD']\n",
    "current_BTC = current_price('BTC')\n",
    "current_ETH = current_price('ETH')\n",
    "current_LTC = current_price('LTC')\n",
    "print(f\"BTC/USD: ${current_BTC}\\nETH/USD: ${current_ETH}\\nLTC/USD: ${current_LTC}\")\n"
   ]
  },
  {
   "cell_type": "code",
   "execution_count": null,
   "metadata": {},
   "outputs": [],
   "source": []
  }
 ],
 "metadata": {
  "kernelspec": {
   "display_name": "Python [conda env:root] *",
   "language": "python",
   "name": "conda-root-py"
  },
  "language_info": {
   "codemirror_mode": {
    "name": "ipython",
    "version": 3
   },
   "file_extension": ".py",
   "mimetype": "text/x-python",
   "name": "python",
   "nbconvert_exporter": "python",
   "pygments_lexer": "ipython3",
   "version": "3.8.5"
  }
 },
 "nbformat": 4,
 "nbformat_minor": 4
}
